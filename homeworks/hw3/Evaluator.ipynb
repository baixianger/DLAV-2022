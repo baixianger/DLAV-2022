{
  "cells": [
    {
      "cell_type": "code",
      "execution_count": null,
      "metadata": {
        "id": "aEW8FsaTRaOo"
      },
      "outputs": [],
      "source": [
        "import numpy as np\n",
        "\n",
        "import torch\n",
        "from torch import nn\n",
        "from torch import optim\n",
        "import torch.nn.functional as F\n",
        "import torch.utils.data as utils\n",
        "from torchvision import datasets, transforms\n",
        "from torch.utils.data.sampler import SubsetRandomSampler\n",
        "import os\n",
        "import platform\n",
        "import pickle"
      ]
    },
    {
      "cell_type": "code",
      "execution_count": null,
      "metadata": {
        "id": "bJAZFldDTQRz",
        "colab": {
          "base_uri": "https://localhost:8080/"
        },
        "outputId": "f587394a-bd2d-492d-d48a-aacaf7e18ae1"
      },
      "outputs": [
        {
          "output_type": "stream",
          "name": "stdout",
          "text": [
            "Mounted at /content/drive\n"
          ]
        }
      ],
      "source": [
        "from google.colab import drive\n",
        "drive.mount('/content/drive')"
      ]
    },
    {
      "cell_type": "code",
      "execution_count": null,
      "metadata": {
        "id": "dtBf2_UXTPVs",
        "colab": {
          "base_uri": "https://localhost:8080/"
        },
        "outputId": "0113d4ea-e74a-40d4-d320-12fc2c8f1b1b"
      },
      "outputs": [
        {
          "output_type": "stream",
          "name": "stdout",
          "text": [
            "rm: cannot remove 'DLAV-2022': No such file or directory\n",
            "Cloning into 'DLAV-2022'...\n",
            "remote: Enumerating objects: 83, done.\u001b[K\n",
            "remote: Counting objects: 100% (83/83), done.\u001b[K\n",
            "remote: Compressing objects: 100% (63/63), done.\u001b[K\n",
            "remote: Total 83 (delta 31), reused 60 (delta 16), pack-reused 0\u001b[K\n",
            "Unpacking objects: 100% (83/83), done.\n"
          ]
        }
      ],
      "source": [
        "!rm -r DLAV-2022\n",
        "!git clone https://github.com/vita-epfl/DLAV-2022.git\n",
        "path = os.getcwd() + '/DLAV-2022/homeworks/hw2/test_batch'"
      ]
    },
    {
      "cell_type": "code",
      "execution_count": null,
      "metadata": {
        "id": "QB1xSP9nUZGQ"
      },
      "outputs": [],
      "source": [
        "# Set the variable to the location of the trained model\n",
        "model_path = 'drive/MyDrive/Colab Notebooks/Cifar10_Classifier_pytorch_CUDA.ckpt'"
      ]
    },
    {
      "cell_type": "code",
      "execution_count": null,
      "metadata": {
        "id": "QEIcPZ4hT7fY"
      },
      "outputs": [],
      "source": [
        "class ConvNet(nn.Module):\n",
        "    def __init__(self, n_input_channels=3, n_output=10):\n",
        "        super().__init__()\n",
        "        ################################################################################\n",
        "        # TODO:                                                                        #\n",
        "        # Define 2 or more different layers of the neural network                      #\n",
        "        ################################################################################\n",
        "        # use the LeNet model\n",
        "        # '?' denotes the batch size, which is 64 in our default setting from func above\n",
        "        self.conv1 = nn.Conv2d(3, 6, 5)       # (?, 3,32,32) => (?, 6,28,28)\n",
        "        self.pool = nn.MaxPool2d(2, 2)        # we use this pooling twice\n",
        "                                              # 1st time :(?, 6,28,28) => (?, 6,14,14)\n",
        "                                              # 2nd time :(?,16,10,10) => (?,16, 5, 5)\n",
        "        self.conv2 = nn.Conv2d(6, 16, 5)      # (?, 6,14,14) => (?,16,10,10)\n",
        "        self.fc1 = nn.Linear(16 * 5 * 5, 120) # (?,16, 5, 5) ~ (?,400) => (?,120)\n",
        "        self.fc2 = nn.Linear(120, 84)         # (?,120) => (?,84)\n",
        "        self.fc3 = nn.Linear(84, 10)          # (?, 84) => (?,10)\n",
        "        ################################################################################\n",
        "        #                              END OF YOUR CODE                                #\n",
        "        ################################################################################\n",
        "    \n",
        "    def forward(self, x):\n",
        "        ################################################################################\n",
        "        # TODO:                                                                        #\n",
        "        # Set up the forward pass that the input data will go through.                 #\n",
        "        # A good activation function betweent the layers is a ReLu function.           #\n",
        "        #                                                                              #\n",
        "        # Note that the output of the last convolution layer should be flattened       #\n",
        "        # before being inputted to the fully connected layer. We can flatten           #\n",
        "        # Tensor `x` with `x.view`.                                                    #\n",
        "        ################################################################################\n",
        "        x = self.pool(F.relu(self.conv1(x)))\n",
        "        x = self.pool(F.relu(self.conv2(x)))\n",
        "        x = torch.flatten(x, 1) # only keep the batch dim, flatten rest dims\n",
        "        # alternatively \n",
        "        # x = x.view(x.size[0], -1)\n",
        "        x = F.relu(self.fc1(x))\n",
        "        x = F.relu(self.fc2(x))\n",
        "        x = self.fc3(x)\n",
        "        ################################################################################\n",
        "        #                              END OF YOUR CODE                                #\n",
        "        ################################################################################\n",
        "        \n",
        "        return x\n",
        "    \n",
        "    def predict(self, x):\n",
        "        logits = self.forward(x)\n",
        "        return F.softmax(logits)"
      ]
    },
    {
      "cell_type": "code",
      "execution_count": null,
      "metadata": {
        "id": "p5v7OgpDR4m2"
      },
      "outputs": [],
      "source": [
        "def predict_usingCNN(X):\n",
        "    #########################################################################\n",
        "    # TODO:                                                                 #\n",
        "    # - Load your saved model                                               #\n",
        "    # - Do the operation required to get the predictions                    #\n",
        "    # - Return predictions in a numpy array                                 #\n",
        "    # Note: For the predictions, you have to return the index of the max    #\n",
        "    # value                                                                 #\n",
        "    #########################################################################\n",
        "    # CUDA setting\n",
        "    device = torch.device(\"cuda\" if torch.cuda.is_available() else \"cpu\")\n",
        "    net = ConvNet().to(device)\n",
        "    # Load my optimized model\n",
        "    checkpoint = torch.load(model_path)\n",
        "    net.load_state_dict(checkpoint)\n",
        "    # prediction/inference\n",
        "    with torch.no_grad():\n",
        "        X = X.to(device)\n",
        "        outputs = net(X)\n",
        "        _, predicted = torch.max(outputs.data, 1)\n",
        "        # _, predicted = torch.max(F.softmax(outputs,dim=1).data, 1)\n",
        "        # cannot turn a CUDA tensor to numpy, so move to CPU first\n",
        "        y_pred = predicted.to('cpu').numpy()\n",
        "    #########################################################################\n",
        "    #                       END OF YOUR CODE                                #\n",
        "    #########################################################################\n",
        "    return y_pred\n",
        "   "
      ]
    },
    {
      "cell_type": "code",
      "execution_count": null,
      "metadata": {
        "id": "IGqVw4U3Sy21"
      },
      "outputs": [],
      "source": [
        "## Read DATA\n",
        "def load_pickle(f):\n",
        "    version = platform.python_version_tuple()\n",
        "    if version[0] == '2':\n",
        "        return  pickle.load(f)\n",
        "    elif version[0] == '3':\n",
        "        return  pickle.load(f, encoding='latin1')\n",
        "    raise ValueError(\"invalid python version: {}\".format(version))\n",
        "\n",
        "def load_CIFAR_batch(filename):\n",
        "  \"\"\" load single batch of cifar \"\"\"\n",
        "  with open(filename, 'rb') as f:\n",
        "    datadict = load_pickle(f)\n",
        "    X = datadict['data']\n",
        "    Y = datadict['labels']\n",
        "    X = X.reshape(10000, 3, 32, 32).astype(\"float\")\n",
        "    Y = np.array(Y)\n",
        "    return X, Y\n",
        "test_filename = path\n",
        "X,Y = load_CIFAR_batch(test_filename)"
      ]
    },
    {
      "cell_type": "code",
      "execution_count": null,
      "metadata": {
        "id": "qiRBbv7fR-DB",
        "colab": {
          "base_uri": "https://localhost:8080/"
        },
        "outputId": "073c7c28-856c-4d73-e000-bde8e7e3edd8"
      },
      "outputs": [
        {
          "output_type": "stream",
          "name": "stdout",
          "text": [
            "CNN Accuracy= 0.773300\n"
          ]
        }
      ],
      "source": [
        "# Data Manipulation\n",
        "mean_pytorch = np.array([0.4914, 0.4822, 0.4465])\n",
        "std_pytorch = np.array([0.2023, 0.1994, 0.2010])\n",
        "X_pytorch = np.divide(np.subtract( X/255 , mean_pytorch[np.newaxis, :,np.newaxis,np.newaxis]), std_pytorch[np.newaxis, :,np.newaxis,np.newaxis])\n",
        "\n",
        "# Run Prediction and Evaluation\n",
        "prediction_cnn = predict_usingCNN(torch.from_numpy(X_pytorch).float())\n",
        "acc_cnn = sum(prediction_cnn == Y)/len(X_pytorch)\n",
        "print(\"CNN Accuracy= %f\"%(acc_cnn))"
      ]
    },
    {
      "cell_type": "code",
      "source": [
        ""
      ],
      "metadata": {
        "id": "rrkkgY99xd0D"
      },
      "execution_count": null,
      "outputs": []
    },
    {
      "cell_type": "code",
      "source": [
        ""
      ],
      "metadata": {
        "id": "pXYiRFzHylMu"
      },
      "execution_count": null,
      "outputs": []
    }
  ],
  "metadata": {
    "colab": {
      "collapsed_sections": [],
      "name": "Copy of Evaluator.ipynb",
      "provenance": []
    },
    "kernelspec": {
      "display_name": "Python 3",
      "name": "python3"
    },
    "language_info": {
      "name": "python"
    },
    "accelerator": "GPU"
  },
  "nbformat": 4,
  "nbformat_minor": 0
}